{
 "cells": [
  {
   "cell_type": "code",
   "execution_count": 10,
   "metadata": {},
   "outputs": [],
   "source": [
    "import requests\n",
    "from bs4 import BeautifulSoup\n",
    "from lxml import html\n",
    "import re\n",
    "import numpy as np\n",
    "\n",
    "#get html contents from website\n",
    "URL = \"https://www.scmtd.com/en/routes/schedule/20201/UC/wd\"\n",
    "wkendURL = \"https://www.scmtd.com/en/routes/schedule/20201/UC/we\"\n",
    "wkr = requests.get(wkendURL)\n",
    "r = requests.get(URL)\n",
    "\n",
    "#separate datate into something readable\n",
    "soup = BeautifulSoup(r.content, 'html.parser')\n",
    "soup2 = BeautifulSoup(wkr.content, 'html.parser')\n",
    "\n",
    "#print out data\n",
    "#print(soup.prettify())\n",
    "#parse bus data of weekday trips into double list\n",
    "trips = []\n",
    "for i, tr in enumerate(soup.findAll(\"tr\")):\n",
    "    cols = []\n",
    "    for j, td in enumerate(tr.findAll(['th', 'td'])):\n",
    "        cols.append(td.text)\n",
    "    trips.append(cols)\n",
    "    \n",
    "#get weekend trips into double list\n",
    "wkendTrips = []\n",
    "for x, tr in enumerate(soup2.findAll(\"tr\")):\n",
    "    cols2 = []\n",
    "    for y, td in enumerate(tr.findAll(['th', 'td'])):\n",
    "        cols2.append(td.text)\n",
    "    wkendTrips.append(cols2)"
   ]
  },
  {
   "cell_type": "code",
   "execution_count": 35,
   "metadata": {},
   "outputs": [],
   "source": [
    "# ROW NAME\n",
    "bus_num = []\n",
    "for i in trips[1:]:\n",
    "    bus_num.append(i[0])\n",
    "    \n",
    "# DATA \n",
    "data = []\n",
    "for i in trips[1:]:\n",
    "    data.append(i[1:])\n",
    "\n",
    "    \n",
    "trips[0]\n",
    "import pandas as pd\n",
    "df = pd.DataFrame(data = data,\n",
    "               index = bus_num,\n",
    "               columns = trips[0][1:])\n",
    "\n",
    "#df"
   ]
  },
  {
   "cell_type": "markdown",
   "metadata": {},
   "source": []
  },
  {
   "cell_type": "code",
   "execution_count": 34,
   "metadata": {},
   "outputs": [],
   "source": [
    "#row wkend\n",
    "bus_num2 = []\n",
    "for i in wkendTrips[1:]:\n",
    "    bus_num2.append(i[0])\n",
    "\n",
    "#wkend data\n",
    "data2 = []\n",
    "for i in wkendTrips[1:]:\n",
    "    data2.append(i[1:])\n",
    "\n",
    "\n",
    "wkendTrips[0]\n",
    "import pandas as pd\n",
    "df2 = pd.DataFrame(data = data2,\n",
    "               index = bus_num2,\n",
    "               columns = wkendTrips[0][1:])\n",
    "\n",
    "#df2\n"
   ]
  },
  {
   "cell_type": "code",
   "execution_count": null,
   "metadata": {},
   "outputs": [],
   "source": []
  },
  {
   "cell_type": "code",
   "execution_count": null,
   "metadata": {},
   "outputs": [],
   "source": []
  }
 ],
 "metadata": {
  "kernelspec": {
   "display_name": "Python 3",
   "language": "python",
   "name": "python3"
  },
  "language_info": {
   "codemirror_mode": {
    "name": "ipython",
    "version": 3
   },
   "file_extension": ".py",
   "mimetype": "text/x-python",
   "name": "python",
   "nbconvert_exporter": "python",
   "pygments_lexer": "ipython3",
   "version": "3.7.4"
  }
 },
 "nbformat": 4,
 "nbformat_minor": 2
}
